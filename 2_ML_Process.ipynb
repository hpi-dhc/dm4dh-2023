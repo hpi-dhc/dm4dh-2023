{
 "cells": [
  {
   "cell_type": "code",
   "execution_count": 1,
   "id": "54bc018e-82cd-4526-8925-ac7bf46e164f",
   "metadata": {},
   "outputs": [],
   "source": [
    "%matplotlib inline"
   ]
  },
  {
   "cell_type": "code",
   "execution_count": 2,
   "id": "fc0ce36b-952c-423c-ae18-4adefd1d71fc",
   "metadata": {},
   "outputs": [],
   "source": [
    "from utils import *"
   ]
  },
  {
   "cell_type": "markdown",
   "id": "a9e6a6d3-f6d8-444b-99e5-881a1a065a0f",
   "metadata": {},
   "source": [
    "# Process Model for Machine Learning in Digital Health\n",
    "\n",
    "<img src=\"assets/process_model.png\" width=\"40%\"/>"
   ]
  },
  {
   "cell_type": "markdown",
   "id": "b2920e6e-40db-4aa8-b6e5-8a76ec928700",
   "metadata": {},
   "source": [
    "## 1. Requirements Analysis\n",
    "\n",
    "- [x] No identifiable data on GitHub\n",
    "- [x] Interpretability"
   ]
  },
  {
   "cell_type": "markdown",
   "id": "546ded4d-6763-4044-bd5f-28b486cbfb75",
   "metadata": {},
   "source": [
    "## 2. Data Acquisition\n",
    "\n",
    "We will use the **South African Heart Disease Dataset**, which was introduced in the [previous notebook](./1_ML_Intro.ipynb).\n",
    "\n",
    "The dataset is already de-identified"
   ]
  },
  {
   "cell_type": "code",
   "execution_count": 3,
   "id": "1b6c7433-2419-41de-bda0-a4aa3c3c9dd6",
   "metadata": {},
   "outputs": [],
   "source": [
    "import pandas as pd"
   ]
  },
  {
   "cell_type": "code",
   "execution_count": 4,
   "id": "c9843005-4a9f-4530-8952-7748c96aea25",
   "metadata": {},
   "outputs": [
    {
     "data": {
      "text/html": [
       "<div>\n",
       "<style scoped>\n",
       "    .dataframe tbody tr th:only-of-type {\n",
       "        vertical-align: middle;\n",
       "    }\n",
       "\n",
       "    .dataframe tbody tr th {\n",
       "        vertical-align: top;\n",
       "    }\n",
       "\n",
       "    .dataframe thead th {\n",
       "        text-align: right;\n",
       "    }\n",
       "</style>\n",
       "<table border=\"1\" class=\"dataframe\">\n",
       "  <thead>\n",
       "    <tr style=\"text-align: right;\">\n",
       "      <th></th>\n",
       "      <th>row.names</th>\n",
       "      <th>sbp</th>\n",
       "      <th>tobacco</th>\n",
       "      <th>ldl</th>\n",
       "      <th>adiposity</th>\n",
       "      <th>famhist</th>\n",
       "      <th>typea</th>\n",
       "      <th>obesity</th>\n",
       "      <th>alcohol</th>\n",
       "      <th>age</th>\n",
       "      <th>chd</th>\n",
       "    </tr>\n",
       "  </thead>\n",
       "  <tbody>\n",
       "    <tr>\n",
       "      <th>0</th>\n",
       "      <td>1</td>\n",
       "      <td>160</td>\n",
       "      <td>12.00</td>\n",
       "      <td>5.73</td>\n",
       "      <td>23.11</td>\n",
       "      <td>Present</td>\n",
       "      <td>49</td>\n",
       "      <td>25.30</td>\n",
       "      <td>97.20</td>\n",
       "      <td>52</td>\n",
       "      <td>1</td>\n",
       "    </tr>\n",
       "    <tr>\n",
       "      <th>1</th>\n",
       "      <td>2</td>\n",
       "      <td>144</td>\n",
       "      <td>0.01</td>\n",
       "      <td>4.41</td>\n",
       "      <td>28.61</td>\n",
       "      <td>Absent</td>\n",
       "      <td>55</td>\n",
       "      <td>28.87</td>\n",
       "      <td>2.06</td>\n",
       "      <td>63</td>\n",
       "      <td>1</td>\n",
       "    </tr>\n",
       "    <tr>\n",
       "      <th>2</th>\n",
       "      <td>3</td>\n",
       "      <td>118</td>\n",
       "      <td>0.08</td>\n",
       "      <td>3.48</td>\n",
       "      <td>32.28</td>\n",
       "      <td>Present</td>\n",
       "      <td>52</td>\n",
       "      <td>29.14</td>\n",
       "      <td>3.81</td>\n",
       "      <td>46</td>\n",
       "      <td>0</td>\n",
       "    </tr>\n",
       "    <tr>\n",
       "      <th>3</th>\n",
       "      <td>4</td>\n",
       "      <td>170</td>\n",
       "      <td>7.50</td>\n",
       "      <td>6.41</td>\n",
       "      <td>38.03</td>\n",
       "      <td>Present</td>\n",
       "      <td>51</td>\n",
       "      <td>31.99</td>\n",
       "      <td>24.26</td>\n",
       "      <td>58</td>\n",
       "      <td>1</td>\n",
       "    </tr>\n",
       "    <tr>\n",
       "      <th>4</th>\n",
       "      <td>5</td>\n",
       "      <td>134</td>\n",
       "      <td>13.60</td>\n",
       "      <td>3.50</td>\n",
       "      <td>27.78</td>\n",
       "      <td>Present</td>\n",
       "      <td>60</td>\n",
       "      <td>25.99</td>\n",
       "      <td>57.34</td>\n",
       "      <td>49</td>\n",
       "      <td>1</td>\n",
       "    </tr>\n",
       "  </tbody>\n",
       "</table>\n",
       "</div>"
      ],
      "text/plain": [
       "   row.names  sbp  tobacco  ldl  adiposity  famhist  typea  obesity  alcohol  \\\n",
       "0          1  160    12.00 5.73      23.11  Present     49    25.30    97.20   \n",
       "1          2  144     0.01 4.41      28.61   Absent     55    28.87     2.06   \n",
       "2          3  118     0.08 3.48      32.28  Present     52    29.14     3.81   \n",
       "3          4  170     7.50 6.41      38.03  Present     51    31.99    24.26   \n",
       "4          5  134    13.60 3.50      27.78  Present     60    25.99    57.34   \n",
       "\n",
       "   age  chd  \n",
       "0   52    1  \n",
       "1   63    1  \n",
       "2   46    0  \n",
       "3   58    1  \n",
       "4   49    1  "
      ]
     },
     "execution_count": 4,
     "metadata": {},
     "output_type": "execute_result"
    }
   ],
   "source": [
    "from utils import load_messy_heart_disease_dataset\n",
    "heart_disease_data = load_messy_heart_disease_dataset()\n",
    "heart_disease_data.head(5)"
   ]
  },
  {
   "cell_type": "markdown",
   "id": "9d6a1b3c-5172-4d5e-bd1d-cfb1fbd60957",
   "metadata": {},
   "source": [
    "## 3. Data Preparation"
   ]
  },
  {
   "cell_type": "markdown",
   "id": "8caae94f-823e-4f9d-a528-3acdb77cd4da",
   "metadata": {},
   "source": [
    "### Labeling"
   ]
  },
  {
   "cell_type": "code",
   "execution_count": 5,
   "id": "63d339bd-5db6-42f4-be29-9b176224eff6",
   "metadata": {},
   "outputs": [
    {
     "data": {
      "text/html": [
       "<div>\n",
       "<style scoped>\n",
       "    .dataframe tbody tr th:only-of-type {\n",
       "        vertical-align: middle;\n",
       "    }\n",
       "\n",
       "    .dataframe tbody tr th {\n",
       "        vertical-align: top;\n",
       "    }\n",
       "\n",
       "    .dataframe thead th {\n",
       "        text-align: right;\n",
       "    }\n",
       "</style>\n",
       "<table border=\"1\" class=\"dataframe\">\n",
       "  <thead>\n",
       "    <tr style=\"text-align: right;\">\n",
       "      <th></th>\n",
       "      <th>Patient ID</th>\n",
       "      <th>Systolic Blood Pressure</th>\n",
       "      <th>Tobacco (kg)</th>\n",
       "      <th>LDL</th>\n",
       "      <th>Adiposity</th>\n",
       "      <th>Fam. Hist</th>\n",
       "      <th>Type A</th>\n",
       "      <th>Obesity</th>\n",
       "      <th>Alcohol</th>\n",
       "      <th>Age</th>\n",
       "      <th>Coronary Heart Disease</th>\n",
       "    </tr>\n",
       "  </thead>\n",
       "  <tbody>\n",
       "    <tr>\n",
       "      <th>0</th>\n",
       "      <td>1</td>\n",
       "      <td>160</td>\n",
       "      <td>12.00</td>\n",
       "      <td>5.73</td>\n",
       "      <td>23.11</td>\n",
       "      <td>Present</td>\n",
       "      <td>49</td>\n",
       "      <td>25.30</td>\n",
       "      <td>97.20</td>\n",
       "      <td>52</td>\n",
       "      <td>1</td>\n",
       "    </tr>\n",
       "    <tr>\n",
       "      <th>1</th>\n",
       "      <td>2</td>\n",
       "      <td>144</td>\n",
       "      <td>0.01</td>\n",
       "      <td>4.41</td>\n",
       "      <td>28.61</td>\n",
       "      <td>Absent</td>\n",
       "      <td>55</td>\n",
       "      <td>28.87</td>\n",
       "      <td>2.06</td>\n",
       "      <td>63</td>\n",
       "      <td>1</td>\n",
       "    </tr>\n",
       "    <tr>\n",
       "      <th>2</th>\n",
       "      <td>3</td>\n",
       "      <td>118</td>\n",
       "      <td>0.08</td>\n",
       "      <td>3.48</td>\n",
       "      <td>32.28</td>\n",
       "      <td>Present</td>\n",
       "      <td>52</td>\n",
       "      <td>29.14</td>\n",
       "      <td>3.81</td>\n",
       "      <td>46</td>\n",
       "      <td>0</td>\n",
       "    </tr>\n",
       "    <tr>\n",
       "      <th>3</th>\n",
       "      <td>4</td>\n",
       "      <td>170</td>\n",
       "      <td>7.50</td>\n",
       "      <td>6.41</td>\n",
       "      <td>38.03</td>\n",
       "      <td>Present</td>\n",
       "      <td>51</td>\n",
       "      <td>31.99</td>\n",
       "      <td>24.26</td>\n",
       "      <td>58</td>\n",
       "      <td>1</td>\n",
       "    </tr>\n",
       "    <tr>\n",
       "      <th>4</th>\n",
       "      <td>5</td>\n",
       "      <td>134</td>\n",
       "      <td>13.60</td>\n",
       "      <td>3.50</td>\n",
       "      <td>27.78</td>\n",
       "      <td>Present</td>\n",
       "      <td>60</td>\n",
       "      <td>25.99</td>\n",
       "      <td>57.34</td>\n",
       "      <td>49</td>\n",
       "      <td>1</td>\n",
       "    </tr>\n",
       "  </tbody>\n",
       "</table>\n",
       "</div>"
      ],
      "text/plain": [
       "   Patient ID  Systolic Blood Pressure  Tobacco (kg)  LDL  Adiposity  \\\n",
       "0           1                      160         12.00 5.73      23.11   \n",
       "1           2                      144          0.01 4.41      28.61   \n",
       "2           3                      118          0.08 3.48      32.28   \n",
       "3           4                      170          7.50 6.41      38.03   \n",
       "4           5                      134         13.60 3.50      27.78   \n",
       "\n",
       "  Fam. Hist  Type A  Obesity  Alcohol  Age  Coronary Heart Disease  \n",
       "0   Present      49    25.30    97.20   52                       1  \n",
       "1    Absent      55    28.87     2.06   63                       1  \n",
       "2   Present      52    29.14     3.81   46                       0  \n",
       "3   Present      51    31.99    24.26   58                       1  \n",
       "4   Present      60    25.99    57.34   49                       1  "
      ]
     },
     "execution_count": 5,
     "metadata": {},
     "output_type": "execute_result"
    }
   ],
   "source": [
    "# Use more user-friendly column names\n",
    "columns = [\n",
    "    'Patient ID',\n",
    "    'Systolic Blood Pressure', \n",
    "    'Tobacco (kg)', \n",
    "    'LDL', \n",
    "    'Adiposity', \n",
    "    'Fam. Hist', \n",
    "    'Type A', \n",
    "    'Obesity', \n",
    "    'Alcohol', \n",
    "    'Age',\n",
    "    'Coronary Heart Disease'\n",
    "]\n",
    "\n",
    "heart_disease_data.columns = columns\n",
    "heart_disease_data.head(5)"
   ]
  },
  {
   "cell_type": "markdown",
   "id": "e9a6eb5b-8778-404f-92e9-93cd61ef0dbe",
   "metadata": {},
   "source": [
    "Define one variable as the target y, all other variables (except for patient ID) as features X"
   ]
  },
  {
   "cell_type": "code",
   "execution_count": 6,
   "id": "e45ed29a-39fc-4211-8ebd-8577b8e6de85",
   "metadata": {},
   "outputs": [],
   "source": [
    "target = 'Coronary Heart Disease'\n",
    "features = [c for c in columns if c != target and c != 'Patient ID']"
   ]
  },
  {
   "cell_type": "markdown",
   "id": "f8f83011-3ff5-4a05-9468-d8a454b0e082",
   "metadata": {},
   "source": [
    "### Exploration & Quality Assessment"
   ]
  },
  {
   "cell_type": "code",
   "execution_count": 7,
   "id": "f08eecd4-9301-465a-9d57-916adfede511",
   "metadata": {},
   "outputs": [
    {
     "data": {
      "text/html": [
       "<div>\n",
       "<style scoped>\n",
       "    .dataframe tbody tr th:only-of-type {\n",
       "        vertical-align: middle;\n",
       "    }\n",
       "\n",
       "    .dataframe tbody tr th {\n",
       "        vertical-align: top;\n",
       "    }\n",
       "\n",
       "    .dataframe thead th {\n",
       "        text-align: right;\n",
       "    }\n",
       "</style>\n",
       "<table border=\"1\" class=\"dataframe\">\n",
       "  <thead>\n",
       "    <tr style=\"text-align: right;\">\n",
       "      <th></th>\n",
       "      <th>Patient ID</th>\n",
       "      <th>Systolic Blood Pressure</th>\n",
       "      <th>Tobacco (kg)</th>\n",
       "      <th>LDL</th>\n",
       "      <th>Adiposity</th>\n",
       "      <th>Type A</th>\n",
       "      <th>Obesity</th>\n",
       "      <th>Alcohol</th>\n",
       "      <th>Age</th>\n",
       "      <th>Coronary Heart Disease</th>\n",
       "    </tr>\n",
       "  </thead>\n",
       "  <tbody>\n",
       "    <tr>\n",
       "      <th>count</th>\n",
       "      <td>462.00</td>\n",
       "      <td>462.00</td>\n",
       "      <td>462.00</td>\n",
       "      <td>462.00</td>\n",
       "      <td>462.00</td>\n",
       "      <td>462.00</td>\n",
       "      <td>462.00</td>\n",
       "      <td>462.00</td>\n",
       "      <td>462.00</td>\n",
       "      <td>462.00</td>\n",
       "    </tr>\n",
       "    <tr>\n",
       "      <th>mean</th>\n",
       "      <td>231.94</td>\n",
       "      <td>138.33</td>\n",
       "      <td>3.64</td>\n",
       "      <td>4.74</td>\n",
       "      <td>25.41</td>\n",
       "      <td>53.10</td>\n",
       "      <td>26.04</td>\n",
       "      <td>17.04</td>\n",
       "      <td>67.24</td>\n",
       "      <td>0.35</td>\n",
       "    </tr>\n",
       "    <tr>\n",
       "      <th>std</th>\n",
       "      <td>133.94</td>\n",
       "      <td>20.50</td>\n",
       "      <td>4.59</td>\n",
       "      <td>2.07</td>\n",
       "      <td>7.78</td>\n",
       "      <td>9.82</td>\n",
       "      <td>4.21</td>\n",
       "      <td>24.48</td>\n",
       "      <td>524.63</td>\n",
       "      <td>0.48</td>\n",
       "    </tr>\n",
       "    <tr>\n",
       "      <th>min</th>\n",
       "      <td>1.00</td>\n",
       "      <td>101.00</td>\n",
       "      <td>0.00</td>\n",
       "      <td>0.98</td>\n",
       "      <td>6.74</td>\n",
       "      <td>13.00</td>\n",
       "      <td>14.70</td>\n",
       "      <td>0.00</td>\n",
       "      <td>15.00</td>\n",
       "      <td>0.00</td>\n",
       "    </tr>\n",
       "    <tr>\n",
       "      <th>25%</th>\n",
       "      <td>116.25</td>\n",
       "      <td>124.00</td>\n",
       "      <td>0.05</td>\n",
       "      <td>3.28</td>\n",
       "      <td>19.77</td>\n",
       "      <td>47.00</td>\n",
       "      <td>22.98</td>\n",
       "      <td>0.51</td>\n",
       "      <td>31.25</td>\n",
       "      <td>0.00</td>\n",
       "    </tr>\n",
       "    <tr>\n",
       "      <th>50%</th>\n",
       "      <td>231.50</td>\n",
       "      <td>134.00</td>\n",
       "      <td>2.00</td>\n",
       "      <td>4.34</td>\n",
       "      <td>26.12</td>\n",
       "      <td>53.00</td>\n",
       "      <td>25.80</td>\n",
       "      <td>7.51</td>\n",
       "      <td>45.00</td>\n",
       "      <td>0.00</td>\n",
       "    </tr>\n",
       "    <tr>\n",
       "      <th>75%</th>\n",
       "      <td>347.75</td>\n",
       "      <td>148.00</td>\n",
       "      <td>5.50</td>\n",
       "      <td>5.79</td>\n",
       "      <td>31.23</td>\n",
       "      <td>60.00</td>\n",
       "      <td>28.50</td>\n",
       "      <td>23.89</td>\n",
       "      <td>55.00</td>\n",
       "      <td>1.00</td>\n",
       "    </tr>\n",
       "    <tr>\n",
       "      <th>max</th>\n",
       "      <td>463.00</td>\n",
       "      <td>218.00</td>\n",
       "      <td>31.20</td>\n",
       "      <td>15.33</td>\n",
       "      <td>42.49</td>\n",
       "      <td>78.00</td>\n",
       "      <td>46.58</td>\n",
       "      <td>147.19</td>\n",
       "      <td>11,315.00</td>\n",
       "      <td>1.00</td>\n",
       "    </tr>\n",
       "  </tbody>\n",
       "</table>\n",
       "</div>"
      ],
      "text/plain": [
       "       Patient ID  Systolic Blood Pressure  Tobacco (kg)    LDL  Adiposity  \\\n",
       "count      462.00                   462.00        462.00 462.00     462.00   \n",
       "mean       231.94                   138.33          3.64   4.74      25.41   \n",
       "std        133.94                    20.50          4.59   2.07       7.78   \n",
       "min          1.00                   101.00          0.00   0.98       6.74   \n",
       "25%        116.25                   124.00          0.05   3.28      19.77   \n",
       "50%        231.50                   134.00          2.00   4.34      26.12   \n",
       "75%        347.75                   148.00          5.50   5.79      31.23   \n",
       "max        463.00                   218.00         31.20  15.33      42.49   \n",
       "\n",
       "       Type A  Obesity  Alcohol       Age  Coronary Heart Disease  \n",
       "count  462.00   462.00   462.00    462.00                  462.00  \n",
       "mean    53.10    26.04    17.04     67.24                    0.35  \n",
       "std      9.82     4.21    24.48    524.63                    0.48  \n",
       "min     13.00    14.70     0.00     15.00                    0.00  \n",
       "25%     47.00    22.98     0.51     31.25                    0.00  \n",
       "50%     53.00    25.80     7.51     45.00                    0.00  \n",
       "75%     60.00    28.50    23.89     55.00                    1.00  \n",
       "max     78.00    46.58   147.19 11,315.00                    1.00  "
      ]
     },
     "execution_count": 7,
     "metadata": {},
     "output_type": "execute_result"
    }
   ],
   "source": [
    "heart_disease_data.describe()"
   ]
  },
  {
   "cell_type": "code",
   "execution_count": 8,
   "id": "da123759-f4b4-43d5-aaf4-e5cf07916b3b",
   "metadata": {},
   "outputs": [
    {
     "data": {
      "text/plain": [
       "<Axes: ylabel='Frequency'>"
      ]
     },
     "execution_count": 8,
     "metadata": {},
     "output_type": "execute_result"
    },
    {
     "data": {
      "image/png": "[encoded data removed]",
      "text/plain": [
       "<Figure size 640x480 with 1 Axes>"
      ]
     },
     "metadata": {},
     "output_type": "display_data"
    }
   ],
   "source": [
    "heart_disease_data.Age.plot.hist()"
   ]
  },
  {
   "cell_type": "markdown",
   "id": "c2485e6c-aea3-4ed6-a93c-4b3b29ff3087",
   "metadata": {},
   "source": [
    "Remove outliers"
   ]
  },
  {
   "cell_type": "code",
   "execution_count": 9,
   "id": "e33ecf52-c32b-4518-9eda-d3883869ef09",
   "metadata": {},
   "outputs": [
    {
     "data": {
      "text/html": [
       "<div>\n",
       "<style scoped>\n",
       "    .dataframe tbody tr th:only-of-type {\n",
       "        vertical-align: middle;\n",
       "    }\n",
       "\n",
       "    .dataframe tbody tr th {\n",
       "        vertical-align: top;\n",
       "    }\n",
       "\n",
       "    .dataframe thead th {\n",
       "        text-align: right;\n",
       "    }\n",
       "</style>\n",
       "<table border=\"1\" class=\"dataframe\">\n",
       "  <thead>\n",
       "    <tr style=\"text-align: right;\">\n",
       "      <th></th>\n",
       "      <th>Patient ID</th>\n",
       "      <th>Systolic Blood Pressure</th>\n",
       "      <th>Tobacco (kg)</th>\n",
       "      <th>LDL</th>\n",
       "      <th>Adiposity</th>\n",
       "      <th>Fam. Hist</th>\n",
       "      <th>Type A</th>\n",
       "      <th>Obesity</th>\n",
       "      <th>Alcohol</th>\n",
       "      <th>Age</th>\n",
       "      <th>Coronary Heart Disease</th>\n",
       "    </tr>\n",
       "  </thead>\n",
       "  <tbody>\n",
       "    <tr>\n",
       "      <th>103</th>\n",
       "      <td>104</td>\n",
       "      <td>128</td>\n",
       "      <td>0.42</td>\n",
       "      <td>4.60</td>\n",
       "      <td>26.68</td>\n",
       "      <td>Absent</td>\n",
       "      <td>41</td>\n",
       "      <td>30.97</td>\n",
       "      <td>10.33</td>\n",
       "      <td>11315</td>\n",
       "      <td>0</td>\n",
       "    </tr>\n",
       "  </tbody>\n",
       "</table>\n",
       "</div>"
      ],
      "text/plain": [
       "     Patient ID  Systolic Blood Pressure  Tobacco (kg)  LDL  Adiposity  \\\n",
       "103         104                      128          0.42 4.60      26.68   \n",
       "\n",
       "    Fam. Hist  Type A  Obesity  Alcohol    Age  Coronary Heart Disease  \n",
       "103    Absent      41    30.97    10.33  11315                       0  "
      ]
     },
     "execution_count": 9,
     "metadata": {},
     "output_type": "execute_result"
    }
   ],
   "source": [
    "heart_disease_data[heart_disease_data.Age > 10000]"
   ]
  },
  {
   "cell_type": "code",
   "execution_count": 10,
   "id": "4677a263-b873-4197-9f23-757ca5656128",
   "metadata": {},
   "outputs": [],
   "source": [
    "heart_disease_data_clean = heart_disease_data[~(heart_disease_data.Age > 10000)]"
   ]
  },
  {
   "cell_type": "code",
   "execution_count": 11,
   "id": "cfd3a444-cfc3-4350-8cb1-bd6e57b06256",
   "metadata": {},
   "outputs": [
    {
     "data": {
      "text/plain": [
       "<Axes: ylabel='Frequency'>"
      ]
     },
     "execution_count": 11,
     "metadata": {},
     "output_type": "execute_result"
    },
    {
     "data": {
      "image/png": "[encoded data removed]",
      "text/plain": [
       "<Figure size 640x480 with 1 Axes>"
      ]
     },
     "metadata": {},
     "output_type": "display_data"
    }
   ],
   "source": [
    "heart_disease_data_clean.Age.plot.hist()"
   ]
  },
  {
   "cell_type": "markdown",
   "id": "107e93c4-e762-45ca-a8a9-659a6d40d07b",
   "metadata": {},
   "source": [
    "### Training / Test Set"
   ]
  },
  {
   "cell_type": "markdown",
   "id": "e5c3cfee-e166-4962-a8c9-357234b57045",
   "metadata": {},
   "source": [
    "We create a training and test set first without and then with stratified sampling"
   ]
  },
  {
   "cell_type": "code",
   "execution_count": 12,
   "id": "c8c8fb63-7614-4233-8630-79393b42dc54",
   "metadata": {},
   "outputs": [],
   "source": [
    "from sklearn.model_selection import train_test_split"
   ]
  },
  {
   "cell_type": "code",
   "execution_count": 13,
   "id": "c59f8b9a-7229-4450-8998-7ed675d6cf05",
   "metadata": {},
   "outputs": [],
   "source": [
    "X = heart_disease_data_clean[features]\n",
    "y = heart_disease_data_clean[target]"
   ]
  },
  {
   "cell_type": "code",
   "execution_count": 14,
   "id": "52dce414-f5d1-408a-8c03-a947324fb485",
   "metadata": {},
   "outputs": [],
   "source": [
    "X_train, X_test, y_train, y_test = train_test_split(X, y, test_size=0.2, random_state=123)"
   ]
  },
  {
   "cell_type": "markdown",
   "id": "bfa6f99c-4484-4231-b1ba-d9523d370023",
   "metadata": {},
   "source": [
    "Mean of the labels in training and test set without stratitication"
   ]
  },
  {
   "cell_type": "code",
   "execution_count": 15,
   "id": "1ef47672-23b3-4d3c-adad-b579c4d56e5a",
   "metadata": {},
   "outputs": [
    {
     "data": {
      "text/plain": [
       "(0.358695652173913, 0.3010752688172043)"
      ]
     },
     "execution_count": 15,
     "metadata": {},
     "output_type": "execute_result"
    }
   ],
   "source": [
    "# Same distribution?\n",
    "y_train.mean(), y_test.mean()"
   ]
  },
  {
   "cell_type": "code",
   "execution_count": 16,
   "id": "289a56ac-94a7-452c-8101-8dd798160bd6",
   "metadata": {},
   "outputs": [],
   "source": [
    "X_train, X_test, y_train, y_test = train_test_split(X, y, test_size=0.2, random_state=42, stratify=y)"
   ]
  },
  {
   "cell_type": "markdown",
   "id": "fff3816c-fd79-4e47-8bcb-9cef1a3007a5",
   "metadata": {},
   "source": [
    "Mean of the labels in training and test set with stratitication"
   ]
  },
  {
   "cell_type": "code",
   "execution_count": 17,
   "id": "6c4b183c-7fbf-4dcb-ab1f-31a72849cfc0",
   "metadata": {},
   "outputs": [
    {
     "data": {
      "text/plain": [
       "(0.34782608695652173, 0.34408602150537637)"
      ]
     },
     "execution_count": 17,
     "metadata": {},
     "output_type": "execute_result"
    }
   ],
   "source": [
    "# Same distribution?\n",
    "y_train.mean(), y_test.mean()"
   ]
  },
  {
   "cell_type": "markdown",
   "id": "1bf98591-18aa-4592-9543-3bccd2c2303a",
   "metadata": {},
   "source": [
    "### Feature Engineering"
   ]
  },
  {
   "cell_type": "markdown",
   "id": "ade084e2-a8af-4c9f-a85b-6ede572d9923",
   "metadata": {},
   "source": [
    "Encode Family history as integer"
   ]
  },
  {
   "cell_type": "code",
   "execution_count": 18,
   "id": "059cc94f-d7b8-4904-85f4-61f410926ec8",
   "metadata": {},
   "outputs": [],
   "source": [
    "for ds in [X_train, X_test]:\n",
    "    ds['Fam. Hist'] = ds['Fam. Hist'].map({'Absent': 0, 'Present': 1})"
   ]
  },
  {
   "cell_type": "markdown",
   "id": "6d407094-fc7f-4879-aeff-e4f80d9c6c5c",
   "metadata": {},
   "source": [
    "Consider polynomial combinations of features"
   ]
  },
  {
   "cell_type": "code",
   "execution_count": 19,
   "id": "31ab8aaf-d263-4483-b25e-6b362d7eb20b",
   "metadata": {},
   "outputs": [],
   "source": [
    "from sklearn.preprocessing import PolynomialFeatures"
   ]
  },
  {
   "cell_type": "code",
   "execution_count": 20,
   "id": "57fcad98-3f40-4d08-93be-89122c97267a",
   "metadata": {},
   "outputs": [],
   "source": [
    "poly = PolynomialFeatures()"
   ]
  },
  {
   "cell_type": "code",
   "execution_count": 21,
   "id": "c696a4db-bdeb-43ff-b56a-921654218ed2",
   "metadata": {},
   "outputs": [],
   "source": [
    "X_poly = poly.fit_transform(X_train)\n",
    "X_poly_names = poly.get_feature_names_out(X_train.columns)"
   ]
  },
  {
   "cell_type": "code",
   "execution_count": 22,
   "id": "f972ee19-ddef-4b32-a5a8-54ada3a0ee67",
   "metadata": {},
   "outputs": [
    {
     "data": {
      "text/html": [
       "<div>\n",
       "<style scoped>\n",
       "    .dataframe tbody tr th:only-of-type {\n",
       "        vertical-align: middle;\n",
       "    }\n",
       "\n",
       "    .dataframe tbody tr th {\n",
       "        vertical-align: top;\n",
       "    }\n",
       "\n",
       "    .dataframe thead th {\n",
       "        text-align: right;\n",
       "    }\n",
       "</style>\n",
       "<table border=\"1\" class=\"dataframe\">\n",
       "  <thead>\n",
       "    <tr style=\"text-align: right;\">\n",
       "      <th></th>\n",
       "      <th>1</th>\n",
       "      <th>Systolic Blood Pressure</th>\n",
       "      <th>Tobacco (kg)</th>\n",
       "      <th>LDL</th>\n",
       "      <th>Adiposity</th>\n",
       "      <th>Fam. Hist</th>\n",
       "      <th>Type A</th>\n",
       "      <th>Obesity</th>\n",
       "      <th>Alcohol</th>\n",
       "      <th>Age</th>\n",
       "      <th>...</th>\n",
       "      <th>Type A^2</th>\n",
       "      <th>Type A Obesity</th>\n",
       "      <th>Type A Alcohol</th>\n",
       "      <th>Type A Age</th>\n",
       "      <th>Obesity^2</th>\n",
       "      <th>Obesity Alcohol</th>\n",
       "      <th>Obesity Age</th>\n",
       "      <th>Alcohol^2</th>\n",
       "      <th>Alcohol Age</th>\n",
       "      <th>Age^2</th>\n",
       "    </tr>\n",
       "  </thead>\n",
       "  <tbody>\n",
       "    <tr>\n",
       "      <th>0</th>\n",
       "      <td>1.00</td>\n",
       "      <td>154.00</td>\n",
       "      <td>4.50</td>\n",
       "      <td>4.68</td>\n",
       "      <td>39.97</td>\n",
       "      <td>0.00</td>\n",
       "      <td>61.00</td>\n",
       "      <td>33.17</td>\n",
       "      <td>1.54</td>\n",
       "      <td>64.00</td>\n",
       "      <td>...</td>\n",
       "      <td>3,721.00</td>\n",
       "      <td>2,023.37</td>\n",
       "      <td>93.94</td>\n",
       "      <td>3,904.00</td>\n",
       "      <td>1,100.25</td>\n",
       "      <td>51.08</td>\n",
       "      <td>2,122.88</td>\n",
       "      <td>2.37</td>\n",
       "      <td>98.56</td>\n",
       "      <td>4,096.00</td>\n",
       "    </tr>\n",
       "    <tr>\n",
       "      <th>1</th>\n",
       "      <td>1.00</td>\n",
       "      <td>134.00</td>\n",
       "      <td>6.40</td>\n",
       "      <td>8.49</td>\n",
       "      <td>37.25</td>\n",
       "      <td>1.00</td>\n",
       "      <td>56.00</td>\n",
       "      <td>28.94</td>\n",
       "      <td>10.49</td>\n",
       "      <td>51.00</td>\n",
       "      <td>...</td>\n",
       "      <td>3,136.00</td>\n",
       "      <td>1,620.64</td>\n",
       "      <td>587.44</td>\n",
       "      <td>2,856.00</td>\n",
       "      <td>837.52</td>\n",
       "      <td>303.58</td>\n",
       "      <td>1,475.94</td>\n",
       "      <td>110.04</td>\n",
       "      <td>534.99</td>\n",
       "      <td>2,601.00</td>\n",
       "    </tr>\n",
       "    <tr>\n",
       "      <th>2</th>\n",
       "      <td>1.00</td>\n",
       "      <td>120.00</td>\n",
       "      <td>1.40</td>\n",
       "      <td>6.25</td>\n",
       "      <td>20.47</td>\n",
       "      <td>0.00</td>\n",
       "      <td>60.00</td>\n",
       "      <td>25.85</td>\n",
       "      <td>8.51</td>\n",
       "      <td>28.00</td>\n",
       "      <td>...</td>\n",
       "      <td>3,600.00</td>\n",
       "      <td>1,551.00</td>\n",
       "      <td>510.60</td>\n",
       "      <td>1,680.00</td>\n",
       "      <td>668.22</td>\n",
       "      <td>219.98</td>\n",
       "      <td>723.80</td>\n",
       "      <td>72.42</td>\n",
       "      <td>238.28</td>\n",
       "      <td>784.00</td>\n",
       "    </tr>\n",
       "    <tr>\n",
       "      <th>3</th>\n",
       "      <td>1.00</td>\n",
       "      <td>152.00</td>\n",
       "      <td>0.90</td>\n",
       "      <td>9.12</td>\n",
       "      <td>30.23</td>\n",
       "      <td>0.00</td>\n",
       "      <td>56.00</td>\n",
       "      <td>28.64</td>\n",
       "      <td>0.37</td>\n",
       "      <td>42.00</td>\n",
       "      <td>...</td>\n",
       "      <td>3,136.00</td>\n",
       "      <td>1,603.84</td>\n",
       "      <td>20.72</td>\n",
       "      <td>2,352.00</td>\n",
       "      <td>820.25</td>\n",
       "      <td>10.60</td>\n",
       "      <td>1,202.88</td>\n",
       "      <td>0.14</td>\n",
       "      <td>15.54</td>\n",
       "      <td>1,764.00</td>\n",
       "    </tr>\n",
       "    <tr>\n",
       "      <th>4</th>\n",
       "      <td>1.00</td>\n",
       "      <td>134.00</td>\n",
       "      <td>2.00</td>\n",
       "      <td>3.66</td>\n",
       "      <td>14.69</td>\n",
       "      <td>0.00</td>\n",
       "      <td>52.00</td>\n",
       "      <td>21.03</td>\n",
       "      <td>2.06</td>\n",
       "      <td>37.00</td>\n",
       "      <td>...</td>\n",
       "      <td>2,704.00</td>\n",
       "      <td>1,093.56</td>\n",
       "      <td>107.12</td>\n",
       "      <td>1,924.00</td>\n",
       "      <td>442.26</td>\n",
       "      <td>43.32</td>\n",
       "      <td>778.11</td>\n",
       "      <td>4.24</td>\n",
       "      <td>76.22</td>\n",
       "      <td>1,369.00</td>\n",
       "    </tr>\n",
       "    <tr>\n",
       "      <th>...</th>\n",
       "      <td>...</td>\n",
       "      <td>...</td>\n",
       "      <td>...</td>\n",
       "      <td>...</td>\n",
       "      <td>...</td>\n",
       "      <td>...</td>\n",
       "      <td>...</td>\n",
       "      <td>...</td>\n",
       "      <td>...</td>\n",
       "      <td>...</td>\n",
       "      <td>...</td>\n",
       "      <td>...</td>\n",
       "      <td>...</td>\n",
       "      <td>...</td>\n",
       "      <td>...</td>\n",
       "      <td>...</td>\n",
       "      <td>...</td>\n",
       "      <td>...</td>\n",
       "      <td>...</td>\n",
       "      <td>...</td>\n",
       "      <td>...</td>\n",
       "    </tr>\n",
       "    <tr>\n",
       "      <th>363</th>\n",
       "      <td>1.00</td>\n",
       "      <td>134.00</td>\n",
       "      <td>2.50</td>\n",
       "      <td>3.66</td>\n",
       "      <td>30.90</td>\n",
       "      <td>0.00</td>\n",
       "      <td>52.00</td>\n",
       "      <td>27.19</td>\n",
       "      <td>23.66</td>\n",
       "      <td>49.00</td>\n",
       "      <td>...</td>\n",
       "      <td>2,704.00</td>\n",
       "      <td>1,413.88</td>\n",
       "      <td>1,230.32</td>\n",
       "      <td>2,548.00</td>\n",
       "      <td>739.30</td>\n",
       "      <td>643.32</td>\n",
       "      <td>1,332.31</td>\n",
       "      <td>559.80</td>\n",
       "      <td>1,159.34</td>\n",
       "      <td>2,401.00</td>\n",
       "    </tr>\n",
       "    <tr>\n",
       "      <th>364</th>\n",
       "      <td>1.00</td>\n",
       "      <td>174.00</td>\n",
       "      <td>2.02</td>\n",
       "      <td>6.57</td>\n",
       "      <td>31.90</td>\n",
       "      <td>1.00</td>\n",
       "      <td>50.00</td>\n",
       "      <td>28.75</td>\n",
       "      <td>11.83</td>\n",
       "      <td>64.00</td>\n",
       "      <td>...</td>\n",
       "      <td>2,500.00</td>\n",
       "      <td>1,437.50</td>\n",
       "      <td>591.50</td>\n",
       "      <td>3,200.00</td>\n",
       "      <td>826.56</td>\n",
       "      <td>340.11</td>\n",
       "      <td>1,840.00</td>\n",
       "      <td>139.95</td>\n",
       "      <td>757.12</td>\n",
       "      <td>4,096.00</td>\n",
       "    </tr>\n",
       "    <tr>\n",
       "      <th>365</th>\n",
       "      <td>1.00</td>\n",
       "      <td>136.00</td>\n",
       "      <td>7.36</td>\n",
       "      <td>2.19</td>\n",
       "      <td>28.11</td>\n",
       "      <td>1.00</td>\n",
       "      <td>61.00</td>\n",
       "      <td>25.00</td>\n",
       "      <td>61.71</td>\n",
       "      <td>54.00</td>\n",
       "      <td>...</td>\n",
       "      <td>3,721.00</td>\n",
       "      <td>1,525.00</td>\n",
       "      <td>3,764.31</td>\n",
       "      <td>3,294.00</td>\n",
       "      <td>625.00</td>\n",
       "      <td>1,542.75</td>\n",
       "      <td>1,350.00</td>\n",
       "      <td>3,808.12</td>\n",
       "      <td>3,332.34</td>\n",
       "      <td>2,916.00</td>\n",
       "    </tr>\n",
       "    <tr>\n",
       "      <th>366</th>\n",
       "      <td>1.00</td>\n",
       "      <td>116.00</td>\n",
       "      <td>4.28</td>\n",
       "      <td>7.02</td>\n",
       "      <td>19.99</td>\n",
       "      <td>1.00</td>\n",
       "      <td>68.00</td>\n",
       "      <td>23.31</td>\n",
       "      <td>0.00</td>\n",
       "      <td>52.00</td>\n",
       "      <td>...</td>\n",
       "      <td>4,624.00</td>\n",
       "      <td>1,585.08</td>\n",
       "      <td>0.00</td>\n",
       "      <td>3,536.00</td>\n",
       "      <td>543.36</td>\n",
       "      <td>0.00</td>\n",
       "      <td>1,212.12</td>\n",
       "      <td>0.00</td>\n",
       "      <td>0.00</td>\n",
       "      <td>2,704.00</td>\n",
       "    </tr>\n",
       "    <tr>\n",
       "      <th>367</th>\n",
       "      <td>1.00</td>\n",
       "      <td>142.00</td>\n",
       "      <td>0.00</td>\n",
       "      <td>4.19</td>\n",
       "      <td>18.04</td>\n",
       "      <td>0.00</td>\n",
       "      <td>56.00</td>\n",
       "      <td>23.65</td>\n",
       "      <td>20.78</td>\n",
       "      <td>42.00</td>\n",
       "      <td>...</td>\n",
       "      <td>3,136.00</td>\n",
       "      <td>1,324.40</td>\n",
       "      <td>1,163.68</td>\n",
       "      <td>2,352.00</td>\n",
       "      <td>559.32</td>\n",
       "      <td>491.45</td>\n",
       "      <td>993.30</td>\n",
       "      <td>431.81</td>\n",
       "      <td>872.76</td>\n",
       "      <td>1,764.00</td>\n",
       "    </tr>\n",
       "  </tbody>\n",
       "</table>\n",
       "<p>368 rows × 55 columns</p>\n",
       "</div>"
      ],
      "text/plain": [
       "       1  Systolic Blood Pressure  Tobacco (kg)  LDL  Adiposity  Fam. Hist  \\\n",
       "0   1.00                   154.00          4.50 4.68      39.97       0.00   \n",
       "1   1.00                   134.00          6.40 8.49      37.25       1.00   \n",
       "2   1.00                   120.00          1.40 6.25      20.47       0.00   \n",
       "3   1.00                   152.00          0.90 9.12      30.23       0.00   \n",
       "4   1.00                   134.00          2.00 3.66      14.69       0.00   \n",
       "..   ...                      ...           ...  ...        ...        ...   \n",
       "363 1.00                   134.00          2.50 3.66      30.90       0.00   \n",
       "364 1.00                   174.00          2.02 6.57      31.90       1.00   \n",
       "365 1.00                   136.00          7.36 2.19      28.11       1.00   \n",
       "366 1.00                   116.00          4.28 7.02      19.99       1.00   \n",
       "367 1.00                   142.00          0.00 4.19      18.04       0.00   \n",
       "\n",
       "     Type A  Obesity  Alcohol   Age  ...  Type A^2  Type A Obesity  \\\n",
       "0     61.00    33.17     1.54 64.00  ...  3,721.00        2,023.37   \n",
       "1     56.00    28.94    10.49 51.00  ...  3,136.00        1,620.64   \n",
       "2     60.00    25.85     8.51 28.00  ...  3,600.00        1,551.00   \n",
       "3     56.00    28.64     0.37 42.00  ...  3,136.00        1,603.84   \n",
       "4     52.00    21.03     2.06 37.00  ...  2,704.00        1,093.56   \n",
       "..      ...      ...      ...   ...  ...       ...             ...   \n",
       "363   52.00    27.19    23.66 49.00  ...  2,704.00        1,413.88   \n",
       "364   50.00    28.75    11.83 64.00  ...  2,500.00        1,437.50   \n",
       "365   61.00    25.00    61.71 54.00  ...  3,721.00        1,525.00   \n",
       "366   68.00    23.31     0.00 52.00  ...  4,624.00        1,585.08   \n",
       "367   56.00    23.65    20.78 42.00  ...  3,136.00        1,324.40   \n",
       "\n",
       "     Type A Alcohol  Type A Age  Obesity^2  Obesity Alcohol  Obesity Age  \\\n",
       "0             93.94    3,904.00   1,100.25            51.08     2,122.88   \n",
       "1            587.44    2,856.00     837.52           303.58     1,475.94   \n",
       "2            510.60    1,680.00     668.22           219.98       723.80   \n",
       "3             20.72    2,352.00     820.25            10.60     1,202.88   \n",
       "4            107.12    1,924.00     442.26            43.32       778.11   \n",
       "..              ...         ...        ...              ...          ...   \n",
       "363        1,230.32    2,548.00     739.30           643.32     1,332.31   \n",
       "364          591.50    3,200.00     826.56           340.11     1,840.00   \n",
       "365        3,764.31    3,294.00     625.00         1,542.75     1,350.00   \n",
       "366            0.00    3,536.00     543.36             0.00     1,212.12   \n",
       "367        1,163.68    2,352.00     559.32           491.45       993.30   \n",
       "\n",
       "     Alcohol^2  Alcohol Age    Age^2  \n",
       "0         2.37        98.56 4,096.00  \n",
       "1       110.04       534.99 2,601.00  \n",
       "2        72.42       238.28   784.00  \n",
       "3         0.14        15.54 1,764.00  \n",
       "4         4.24        76.22 1,369.00  \n",
       "..         ...          ...      ...  \n",
       "363     559.80     1,159.34 2,401.00  \n",
       "364     139.95       757.12 4,096.00  \n",
       "365   3,808.12     3,332.34 2,916.00  \n",
       "366       0.00         0.00 2,704.00  \n",
       "367     431.81       872.76 1,764.00  \n",
       "\n",
       "[368 rows x 55 columns]"
      ]
     },
     "execution_count": 22,
     "metadata": {},
     "output_type": "execute_result"
    }
   ],
   "source": [
    "pd.DataFrame(X_poly, columns=X_poly_names)"
   ]
  },
  {
   "cell_type": "code",
   "execution_count": 23,
   "id": "838dcf17-f122-4b28-b9e4-8178c89964a3",
   "metadata": {},
   "outputs": [
    {
     "data": {
      "text/html": [
       "<div>\n",
       "<style scoped>\n",
       "    .dataframe tbody tr th:only-of-type {\n",
       "        vertical-align: middle;\n",
       "    }\n",
       "\n",
       "    .dataframe tbody tr th {\n",
       "        vertical-align: top;\n",
       "    }\n",
       "\n",
       "    .dataframe thead th {\n",
       "        text-align: right;\n",
       "    }\n",
       "</style>\n",
       "<table border=\"1\" class=\"dataframe\">\n",
       "  <thead>\n",
       "    <tr style=\"text-align: right;\">\n",
       "      <th></th>\n",
       "      <th>1</th>\n",
       "      <th>Systolic Blood Pressure</th>\n",
       "      <th>Tobacco (kg)</th>\n",
       "      <th>LDL</th>\n",
       "      <th>Adiposity</th>\n",
       "      <th>Fam. Hist</th>\n",
       "      <th>Type A</th>\n",
       "      <th>Obesity</th>\n",
       "      <th>Alcohol</th>\n",
       "      <th>Age</th>\n",
       "      <th>...</th>\n",
       "      <th>Type A^2</th>\n",
       "      <th>Type A Obesity</th>\n",
       "      <th>Type A Alcohol</th>\n",
       "      <th>Type A Age</th>\n",
       "      <th>Obesity^2</th>\n",
       "      <th>Obesity Alcohol</th>\n",
       "      <th>Obesity Age</th>\n",
       "      <th>Alcohol^2</th>\n",
       "      <th>Alcohol Age</th>\n",
       "      <th>Age^2</th>\n",
       "    </tr>\n",
       "  </thead>\n",
       "  <tbody>\n",
       "    <tr>\n",
       "      <th>count</th>\n",
       "      <td>368.00</td>\n",
       "      <td>368.00</td>\n",
       "      <td>368.00</td>\n",
       "      <td>368.00</td>\n",
       "      <td>368.00</td>\n",
       "      <td>368.00</td>\n",
       "      <td>368.00</td>\n",
       "      <td>368.00</td>\n",
       "      <td>368.00</td>\n",
       "      <td>368.00</td>\n",
       "      <td>...</td>\n",
       "      <td>368.00</td>\n",
       "      <td>368.00</td>\n",
       "      <td>368.00</td>\n",
       "      <td>368.00</td>\n",
       "      <td>368.00</td>\n",
       "      <td>368.00</td>\n",
       "      <td>368.00</td>\n",
       "      <td>368.00</td>\n",
       "      <td>368.00</td>\n",
       "      <td>368.00</td>\n",
       "    </tr>\n",
       "    <tr>\n",
       "      <th>mean</th>\n",
       "      <td>1.00</td>\n",
       "      <td>138.16</td>\n",
       "      <td>3.31</td>\n",
       "      <td>4.67</td>\n",
       "      <td>25.27</td>\n",
       "      <td>0.40</td>\n",
       "      <td>53.34</td>\n",
       "      <td>26.01</td>\n",
       "      <td>17.46</td>\n",
       "      <td>42.23</td>\n",
       "      <td>...</td>\n",
       "      <td>2,934.53</td>\n",
       "      <td>1,390.82</td>\n",
       "      <td>937.75</td>\n",
       "      <td>2,239.32</td>\n",
       "      <td>693.06</td>\n",
       "      <td>464.13</td>\n",
       "      <td>1,116.36</td>\n",
       "      <td>934.74</td>\n",
       "      <td>774.98</td>\n",
       "      <td>1,996.29</td>\n",
       "    </tr>\n",
       "    <tr>\n",
       "      <th>std</th>\n",
       "      <td>0.00</td>\n",
       "      <td>20.36</td>\n",
       "      <td>4.42</td>\n",
       "      <td>2.07</td>\n",
       "      <td>7.62</td>\n",
       "      <td>0.49</td>\n",
       "      <td>9.45</td>\n",
       "      <td>4.08</td>\n",
       "      <td>25.13</td>\n",
       "      <td>14.62</td>\n",
       "      <td>...</td>\n",
       "      <td>1,000.38</td>\n",
       "      <td>349.26</td>\n",
       "      <td>1,423.04</td>\n",
       "      <td>840.05</td>\n",
       "      <td>228.37</td>\n",
       "      <td>678.84</td>\n",
       "      <td>449.67</td>\n",
       "      <td>2,465.67</td>\n",
       "      <td>1,183.88</td>\n",
       "      <td>1,181.05</td>\n",
       "    </tr>\n",
       "    <tr>\n",
       "      <th>min</th>\n",
       "      <td>1.00</td>\n",
       "      <td>101.00</td>\n",
       "      <td>0.00</td>\n",
       "      <td>0.98</td>\n",
       "      <td>6.74</td>\n",
       "      <td>0.00</td>\n",
       "      <td>20.00</td>\n",
       "      <td>17.75</td>\n",
       "      <td>0.00</td>\n",
       "      <td>15.00</td>\n",
       "      <td>...</td>\n",
       "      <td>400.00</td>\n",
       "      <td>536.00</td>\n",
       "      <td>0.00</td>\n",
       "      <td>561.00</td>\n",
       "      <td>315.06</td>\n",
       "      <td>0.00</td>\n",
       "      <td>287.25</td>\n",
       "      <td>0.00</td>\n",
       "      <td>0.00</td>\n",
       "      <td>225.00</td>\n",
       "    </tr>\n",
       "    <tr>\n",
       "      <th>25%</th>\n",
       "      <td>1.00</td>\n",
       "      <td>124.00</td>\n",
       "      <td>0.03</td>\n",
       "      <td>3.24</td>\n",
       "      <td>19.98</td>\n",
       "      <td>0.00</td>\n",
       "      <td>47.75</td>\n",
       "      <td>23.05</td>\n",
       "      <td>0.51</td>\n",
       "      <td>30.75</td>\n",
       "      <td>...</td>\n",
       "      <td>2,280.25</td>\n",
       "      <td>1,157.82</td>\n",
       "      <td>27.16</td>\n",
       "      <td>1,655.00</td>\n",
       "      <td>531.54</td>\n",
       "      <td>11.65</td>\n",
       "      <td>780.02</td>\n",
       "      <td>0.26</td>\n",
       "      <td>17.02</td>\n",
       "      <td>945.75</td>\n",
       "    </tr>\n",
       "    <tr>\n",
       "      <th>50%</th>\n",
       "      <td>1.00</td>\n",
       "      <td>134.00</td>\n",
       "      <td>1.65</td>\n",
       "      <td>4.24</td>\n",
       "      <td>25.91</td>\n",
       "      <td>0.00</td>\n",
       "      <td>53.00</td>\n",
       "      <td>25.80</td>\n",
       "      <td>7.51</td>\n",
       "      <td>44.00</td>\n",
       "      <td>...</td>\n",
       "      <td>2,809.00</td>\n",
       "      <td>1,356.65</td>\n",
       "      <td>394.11</td>\n",
       "      <td>2,273.00</td>\n",
       "      <td>665.90</td>\n",
       "      <td>185.95</td>\n",
       "      <td>1,161.62</td>\n",
       "      <td>56.41</td>\n",
       "      <td>271.40</td>\n",
       "      <td>1,936.00</td>\n",
       "    </tr>\n",
       "    <tr>\n",
       "      <th>75%</th>\n",
       "      <td>1.00</td>\n",
       "      <td>148.00</td>\n",
       "      <td>4.50</td>\n",
       "      <td>5.64</td>\n",
       "      <td>30.80</td>\n",
       "      <td>1.00</td>\n",
       "      <td>60.00</td>\n",
       "      <td>28.42</td>\n",
       "      <td>23.66</td>\n",
       "      <td>55.00</td>\n",
       "      <td>...</td>\n",
       "      <td>3,600.00</td>\n",
       "      <td>1,586.85</td>\n",
       "      <td>1,243.45</td>\n",
       "      <td>2,817.75</td>\n",
       "      <td>807.70</td>\n",
       "      <td>599.79</td>\n",
       "      <td>1,432.96</td>\n",
       "      <td>559.80</td>\n",
       "      <td>1,057.62</td>\n",
       "      <td>3,025.00</td>\n",
       "    </tr>\n",
       "    <tr>\n",
       "      <th>max</th>\n",
       "      <td>1.00</td>\n",
       "      <td>218.00</td>\n",
       "      <td>31.20</td>\n",
       "      <td>15.33</td>\n",
       "      <td>42.49</td>\n",
       "      <td>1.00</td>\n",
       "      <td>78.00</td>\n",
       "      <td>45.72</td>\n",
       "      <td>145.29</td>\n",
       "      <td>64.00</td>\n",
       "      <td>...</td>\n",
       "      <td>6,084.00</td>\n",
       "      <td>2,587.68</td>\n",
       "      <td>10,080.00</td>\n",
       "      <td>4,320.00</td>\n",
       "      <td>2,090.32</td>\n",
       "      <td>4,426.56</td>\n",
       "      <td>2,423.16</td>\n",
       "      <td>21,109.18</td>\n",
       "      <td>6,912.00</td>\n",
       "      <td>4,096.00</td>\n",
       "    </tr>\n",
       "  </tbody>\n",
       "</table>\n",
       "<p>8 rows × 55 columns</p>\n",
       "</div>"
      ],
      "text/plain": [
       "           1  Systolic Blood Pressure  Tobacco (kg)    LDL  Adiposity  \\\n",
       "count 368.00                   368.00        368.00 368.00     368.00   \n",
       "mean    1.00                   138.16          3.31   4.67      25.27   \n",
       "std     0.00                    20.36          4.42   2.07       7.62   \n",
       "min     1.00                   101.00          0.00   0.98       6.74   \n",
       "25%     1.00                   124.00          0.03   3.24      19.98   \n",
       "50%     1.00                   134.00          1.65   4.24      25.91   \n",
       "75%     1.00                   148.00          4.50   5.64      30.80   \n",
       "max     1.00                   218.00         31.20  15.33      42.49   \n",
       "\n",
       "       Fam. Hist  Type A  Obesity  Alcohol    Age  ...  Type A^2  \\\n",
       "count     368.00  368.00   368.00   368.00 368.00  ...    368.00   \n",
       "mean        0.40   53.34    26.01    17.46  42.23  ...  2,934.53   \n",
       "std         0.49    9.45     4.08    25.13  14.62  ...  1,000.38   \n",
       "min         0.00   20.00    17.75     0.00  15.00  ...    400.00   \n",
       "25%         0.00   47.75    23.05     0.51  30.75  ...  2,280.25   \n",
       "50%         0.00   53.00    25.80     7.51  44.00  ...  2,809.00   \n",
       "75%         1.00   60.00    28.42    23.66  55.00  ...  3,600.00   \n",
       "max         1.00   78.00    45.72   145.29  64.00  ...  6,084.00   \n",
       "\n",
       "       Type A Obesity  Type A Alcohol  Type A Age  Obesity^2  Obesity Alcohol  \\\n",
       "count          368.00          368.00      368.00     368.00           368.00   \n",
       "mean         1,390.82          937.75    2,239.32     693.06           464.13   \n",
       "std            349.26        1,423.04      840.05     228.37           678.84   \n",
       "min            536.00            0.00      561.00     315.06             0.00   \n",
       "25%          1,157.82           27.16    1,655.00     531.54            11.65   \n",
       "50%          1,356.65          394.11    2,273.00     665.90           185.95   \n",
       "75%          1,586.85        1,243.45    2,817.75     807.70           599.79   \n",
       "max          2,587.68       10,080.00    4,320.00   2,090.32         4,426.56   \n",
       "\n",
       "       Obesity Age  Alcohol^2  Alcohol Age    Age^2  \n",
       "count       368.00     368.00       368.00   368.00  \n",
       "mean      1,116.36     934.74       774.98 1,996.29  \n",
       "std         449.67   2,465.67     1,183.88 1,181.05  \n",
       "min         287.25       0.00         0.00   225.00  \n",
       "25%         780.02       0.26        17.02   945.75  \n",
       "50%       1,161.62      56.41       271.40 1,936.00  \n",
       "75%       1,432.96     559.80     1,057.62 3,025.00  \n",
       "max       2,423.16  21,109.18     6,912.00 4,096.00  \n",
       "\n",
       "[8 rows x 55 columns]"
      ]
     },
     "execution_count": 23,
     "metadata": {},
     "output_type": "execute_result"
    }
   ],
   "source": [
    "pd.DataFrame(X_poly, columns=X_poly_names).describe()"
   ]
  },
  {
   "cell_type": "markdown",
   "id": "8279cbab-3eb8-40ab-8d1c-da1d31ae724c",
   "metadata": {},
   "source": [
    "Number of features before / after"
   ]
  },
  {
   "cell_type": "code",
   "execution_count": 24,
   "id": "07fd62da-191e-4468-b013-4bc8f7ab9e85",
   "metadata": {},
   "outputs": [
    {
     "data": {
      "text/plain": [
       "(9, 55)"
      ]
     },
     "execution_count": 24,
     "metadata": {},
     "output_type": "execute_result"
    }
   ],
   "source": [
    "X_train.shape[1], X_poly.shape[1]"
   ]
  },
  {
   "cell_type": "code",
   "execution_count": 25,
   "id": "c32a7a05-beda-428f-9f62-af0c03e864e7",
   "metadata": {},
   "outputs": [
    {
     "data": {
      "text/plain": [
       "array([[1.0000000e+00, 1.5400000e+02, 4.5000000e+00, ..., 2.3716000e+00,\n",
       "        9.8560000e+01, 4.0960000e+03],\n",
       "       [1.0000000e+00, 1.3400000e+02, 6.4000000e+00, ..., 1.1004010e+02,\n",
       "        5.3499000e+02, 2.6010000e+03],\n",
       "       [1.0000000e+00, 1.2000000e+02, 1.4000000e+00, ..., 7.2420100e+01,\n",
       "        2.3828000e+02, 7.8400000e+02],\n",
       "       ...,\n",
       "       [1.0000000e+00, 1.3600000e+02, 7.3600000e+00, ..., 3.8081241e+03,\n",
       "        3.3323400e+03, 2.9160000e+03],\n",
       "       [1.0000000e+00, 1.1600000e+02, 4.2800000e+00, ..., 0.0000000e+00,\n",
       "        0.0000000e+00, 2.7040000e+03],\n",
       "       [1.0000000e+00, 1.4200000e+02, 0.0000000e+00, ..., 4.3180840e+02,\n",
       "        8.7276000e+02, 1.7640000e+03]])"
      ]
     },
     "execution_count": 25,
     "metadata": {},
     "output_type": "execute_result"
    }
   ],
   "source": [
    "X_poly"
   ]
  },
  {
   "cell_type": "markdown",
   "id": "1f61c7ca-0352-4d16-87ef-75b9e241b44a",
   "metadata": {},
   "source": [
    "Scale features to have mean = 0 and variance / std = 1"
   ]
  },
  {
   "cell_type": "code",
   "execution_count": 26,
   "id": "4f332d25-676a-423e-8a84-4c93e7ee873a",
   "metadata": {},
   "outputs": [],
   "source": [
    "from sklearn.preprocessing import StandardScaler\n",
    "\n",
    "scaler = StandardScaler()\n",
    "X_train_scaled = scaler.fit_transform(X_train)"
   ]
  },
  {
   "cell_type": "markdown",
   "id": "528ab3cc-9b41-4fd7-b0f0-ec2a2cf3c582",
   "metadata": {},
   "source": [
    "Before scaling"
   ]
  },
  {
   "cell_type": "code",
   "execution_count": 27,
   "id": "896d9678-83f9-48c5-9b3d-4c89a4742ffe",
   "metadata": {},
   "outputs": [
    {
     "data": {
      "text/html": [
       "<div>\n",
       "<style scoped>\n",
       "    .dataframe tbody tr th:only-of-type {\n",
       "        vertical-align: middle;\n",
       "    }\n",
       "\n",
       "    .dataframe tbody tr th {\n",
       "        vertical-align: top;\n",
       "    }\n",
       "\n",
       "    .dataframe thead th {\n",
       "        text-align: right;\n",
       "    }\n",
       "</style>\n",
       "<table border=\"1\" class=\"dataframe\">\n",
       "  <thead>\n",
       "    <tr style=\"text-align: right;\">\n",
       "      <th></th>\n",
       "      <th>Systolic Blood Pressure</th>\n",
       "      <th>Tobacco (kg)</th>\n",
       "      <th>LDL</th>\n",
       "      <th>Adiposity</th>\n",
       "      <th>Fam. Hist</th>\n",
       "      <th>Type A</th>\n",
       "      <th>Obesity</th>\n",
       "      <th>Alcohol</th>\n",
       "      <th>Age</th>\n",
       "    </tr>\n",
       "  </thead>\n",
       "  <tbody>\n",
       "    <tr>\n",
       "      <th>count</th>\n",
       "      <td>368.00</td>\n",
       "      <td>368.00</td>\n",
       "      <td>368.00</td>\n",
       "      <td>368.00</td>\n",
       "      <td>368.00</td>\n",
       "      <td>368.00</td>\n",
       "      <td>368.00</td>\n",
       "      <td>368.00</td>\n",
       "      <td>368.00</td>\n",
       "    </tr>\n",
       "    <tr>\n",
       "      <th>mean</th>\n",
       "      <td>138.16</td>\n",
       "      <td>3.31</td>\n",
       "      <td>4.67</td>\n",
       "      <td>25.27</td>\n",
       "      <td>0.40</td>\n",
       "      <td>53.34</td>\n",
       "      <td>26.01</td>\n",
       "      <td>17.46</td>\n",
       "      <td>42.23</td>\n",
       "    </tr>\n",
       "    <tr>\n",
       "      <th>std</th>\n",
       "      <td>20.36</td>\n",
       "      <td>4.42</td>\n",
       "      <td>2.07</td>\n",
       "      <td>7.62</td>\n",
       "      <td>0.49</td>\n",
       "      <td>9.45</td>\n",
       "      <td>4.08</td>\n",
       "      <td>25.13</td>\n",
       "      <td>14.62</td>\n",
       "    </tr>\n",
       "    <tr>\n",
       "      <th>min</th>\n",
       "      <td>101.00</td>\n",
       "      <td>0.00</td>\n",
       "      <td>0.98</td>\n",
       "      <td>6.74</td>\n",
       "      <td>0.00</td>\n",
       "      <td>20.00</td>\n",
       "      <td>17.75</td>\n",
       "      <td>0.00</td>\n",
       "      <td>15.00</td>\n",
       "    </tr>\n",
       "    <tr>\n",
       "      <th>25%</th>\n",
       "      <td>124.00</td>\n",
       "      <td>0.03</td>\n",
       "      <td>3.24</td>\n",
       "      <td>19.98</td>\n",
       "      <td>0.00</td>\n",
       "      <td>47.75</td>\n",
       "      <td>23.05</td>\n",
       "      <td>0.51</td>\n",
       "      <td>30.75</td>\n",
       "    </tr>\n",
       "    <tr>\n",
       "      <th>50%</th>\n",
       "      <td>134.00</td>\n",
       "      <td>1.65</td>\n",
       "      <td>4.24</td>\n",
       "      <td>25.91</td>\n",
       "      <td>0.00</td>\n",
       "      <td>53.00</td>\n",
       "      <td>25.80</td>\n",
       "      <td>7.51</td>\n",
       "      <td>44.00</td>\n",
       "    </tr>\n",
       "    <tr>\n",
       "      <th>75%</th>\n",
       "      <td>148.00</td>\n",
       "      <td>4.50</td>\n",
       "      <td>5.64</td>\n",
       "      <td>30.80</td>\n",
       "      <td>1.00</td>\n",
       "      <td>60.00</td>\n",
       "      <td>28.42</td>\n",
       "      <td>23.66</td>\n",
       "      <td>55.00</td>\n",
       "    </tr>\n",
       "    <tr>\n",
       "      <th>max</th>\n",
       "      <td>218.00</td>\n",
       "      <td>31.20</td>\n",
       "      <td>15.33</td>\n",
       "      <td>42.49</td>\n",
       "      <td>1.00</td>\n",
       "      <td>78.00</td>\n",
       "      <td>45.72</td>\n",
       "      <td>145.29</td>\n",
       "      <td>64.00</td>\n",
       "    </tr>\n",
       "  </tbody>\n",
       "</table>\n",
       "</div>"
      ],
      "text/plain": [
       "       Systolic Blood Pressure  Tobacco (kg)    LDL  Adiposity  Fam. Hist  \\\n",
       "count                   368.00        368.00 368.00     368.00     368.00   \n",
       "mean                    138.16          3.31   4.67      25.27       0.40   \n",
       "std                      20.36          4.42   2.07       7.62       0.49   \n",
       "min                     101.00          0.00   0.98       6.74       0.00   \n",
       "25%                     124.00          0.03   3.24      19.98       0.00   \n",
       "50%                     134.00          1.65   4.24      25.91       0.00   \n",
       "75%                     148.00          4.50   5.64      30.80       1.00   \n",
       "max                     218.00         31.20  15.33      42.49       1.00   \n",
       "\n",
       "       Type A  Obesity  Alcohol    Age  \n",
       "count  368.00   368.00   368.00 368.00  \n",
       "mean    53.34    26.01    17.46  42.23  \n",
       "std      9.45     4.08    25.13  14.62  \n",
       "min     20.00    17.75     0.00  15.00  \n",
       "25%     47.75    23.05     0.51  30.75  \n",
       "50%     53.00    25.80     7.51  44.00  \n",
       "75%     60.00    28.42    23.66  55.00  \n",
       "max     78.00    45.72   145.29  64.00  "
      ]
     },
     "execution_count": 27,
     "metadata": {},
     "output_type": "execute_result"
    }
   ],
   "source": [
    "X_train.describe()"
   ]
  },
  {
   "cell_type": "markdown",
   "id": "f6edaaad-2f37-4d2c-9f87-bbd7d0ac8ecf",
   "metadata": {},
   "source": [
    "After scaling"
   ]
  },
  {
   "cell_type": "code",
   "execution_count": 28,
   "id": "313f2e44-4723-4446-a6b9-92ee75e3374d",
   "metadata": {},
   "outputs": [
    {
     "data": {
      "text/html": [
       "<div>\n",
       "<style scoped>\n",
       "    .dataframe tbody tr th:only-of-type {\n",
       "        vertical-align: middle;\n",
       "    }\n",
       "\n",
       "    .dataframe tbody tr th {\n",
       "        vertical-align: top;\n",
       "    }\n",
       "\n",
       "    .dataframe thead th {\n",
       "        text-align: right;\n",
       "    }\n",
       "</style>\n",
       "<table border=\"1\" class=\"dataframe\">\n",
       "  <thead>\n",
       "    <tr style=\"text-align: right;\">\n",
       "      <th></th>\n",
       "      <th>Systolic Blood Pressure</th>\n",
       "      <th>Tobacco (kg)</th>\n",
       "      <th>LDL</th>\n",
       "      <th>Adiposity</th>\n",
       "      <th>Fam. Hist</th>\n",
       "      <th>Type A</th>\n",
       "      <th>Obesity</th>\n",
       "      <th>Alcohol</th>\n",
       "      <th>Age</th>\n",
       "    </tr>\n",
       "  </thead>\n",
       "  <tbody>\n",
       "    <tr>\n",
       "      <th>count</th>\n",
       "      <td>368.00</td>\n",
       "      <td>368.00</td>\n",
       "      <td>368.00</td>\n",
       "      <td>368.00</td>\n",
       "      <td>368.00</td>\n",
       "      <td>368.00</td>\n",
       "      <td>368.00</td>\n",
       "      <td>368.00</td>\n",
       "      <td>368.00</td>\n",
       "    </tr>\n",
       "    <tr>\n",
       "      <th>mean</th>\n",
       "      <td>-0.00</td>\n",
       "      <td>-0.00</td>\n",
       "      <td>-0.00</td>\n",
       "      <td>-0.00</td>\n",
       "      <td>0.00</td>\n",
       "      <td>-0.00</td>\n",
       "      <td>-0.00</td>\n",
       "      <td>-0.00</td>\n",
       "      <td>0.00</td>\n",
       "    </tr>\n",
       "    <tr>\n",
       "      <th>std</th>\n",
       "      <td>1.00</td>\n",
       "      <td>1.00</td>\n",
       "      <td>1.00</td>\n",
       "      <td>1.00</td>\n",
       "      <td>1.00</td>\n",
       "      <td>1.00</td>\n",
       "      <td>1.00</td>\n",
       "      <td>1.00</td>\n",
       "      <td>1.00</td>\n",
       "    </tr>\n",
       "    <tr>\n",
       "      <th>min</th>\n",
       "      <td>-1.83</td>\n",
       "      <td>-0.75</td>\n",
       "      <td>-1.78</td>\n",
       "      <td>-2.43</td>\n",
       "      <td>-0.82</td>\n",
       "      <td>-3.53</td>\n",
       "      <td>-2.03</td>\n",
       "      <td>-0.70</td>\n",
       "      <td>-1.86</td>\n",
       "    </tr>\n",
       "    <tr>\n",
       "      <th>25%</th>\n",
       "      <td>-0.70</td>\n",
       "      <td>-0.74</td>\n",
       "      <td>-0.69</td>\n",
       "      <td>-0.69</td>\n",
       "      <td>-0.82</td>\n",
       "      <td>-0.59</td>\n",
       "      <td>-0.72</td>\n",
       "      <td>-0.68</td>\n",
       "      <td>-0.79</td>\n",
       "    </tr>\n",
       "    <tr>\n",
       "      <th>50%</th>\n",
       "      <td>-0.20</td>\n",
       "      <td>-0.38</td>\n",
       "      <td>-0.21</td>\n",
       "      <td>0.08</td>\n",
       "      <td>-0.82</td>\n",
       "      <td>-0.04</td>\n",
       "      <td>-0.05</td>\n",
       "      <td>-0.40</td>\n",
       "      <td>0.12</td>\n",
       "    </tr>\n",
       "    <tr>\n",
       "      <th>75%</th>\n",
       "      <td>0.48</td>\n",
       "      <td>0.27</td>\n",
       "      <td>0.47</td>\n",
       "      <td>0.73</td>\n",
       "      <td>1.23</td>\n",
       "      <td>0.71</td>\n",
       "      <td>0.59</td>\n",
       "      <td>0.25</td>\n",
       "      <td>0.87</td>\n",
       "    </tr>\n",
       "    <tr>\n",
       "      <th>max</th>\n",
       "      <td>3.93</td>\n",
       "      <td>6.32</td>\n",
       "      <td>5.15</td>\n",
       "      <td>2.26</td>\n",
       "      <td>1.23</td>\n",
       "      <td>2.61</td>\n",
       "      <td>4.83</td>\n",
       "      <td>5.09</td>\n",
       "      <td>1.49</td>\n",
       "    </tr>\n",
       "  </tbody>\n",
       "</table>\n",
       "</div>"
      ],
      "text/plain": [
       "       Systolic Blood Pressure  Tobacco (kg)    LDL  Adiposity  Fam. Hist  \\\n",
       "count                   368.00        368.00 368.00     368.00     368.00   \n",
       "mean                     -0.00         -0.00  -0.00      -0.00       0.00   \n",
       "std                       1.00          1.00   1.00       1.00       1.00   \n",
       "min                      -1.83         -0.75  -1.78      -2.43      -0.82   \n",
       "25%                      -0.70         -0.74  -0.69      -0.69      -0.82   \n",
       "50%                      -0.20         -0.38  -0.21       0.08      -0.82   \n",
       "75%                       0.48          0.27   0.47       0.73       1.23   \n",
       "max                       3.93          6.32   5.15       2.26       1.23   \n",
       "\n",
       "       Type A  Obesity  Alcohol    Age  \n",
       "count  368.00   368.00   368.00 368.00  \n",
       "mean    -0.00    -0.00    -0.00   0.00  \n",
       "std      1.00     1.00     1.00   1.00  \n",
       "min     -3.53    -2.03    -0.70  -1.86  \n",
       "25%     -0.59    -0.72    -0.68  -0.79  \n",
       "50%     -0.04    -0.05    -0.40   0.12  \n",
       "75%      0.71     0.59     0.25   0.87  \n",
       "max      2.61     4.83     5.09   1.49  "
      ]
     },
     "execution_count": 28,
     "metadata": {},
     "output_type": "execute_result"
    }
   ],
   "source": [
    "pd.DataFrame(X_train_scaled, columns=scaler.feature_names_in_).describe()"
   ]
  },
  {
   "cell_type": "markdown",
   "id": "62123efe-4c4b-444d-b556-389e609072f6",
   "metadata": {},
   "source": [
    "## 4. Predictive Modelling"
   ]
  },
  {
   "cell_type": "code",
   "execution_count": 29,
   "id": "f358d6d9-0d35-4a44-9ebf-5c9b685864c9",
   "metadata": {},
   "outputs": [],
   "source": [
    "from sklearn.linear_model import LogisticRegression\n",
    "from sklearn.pipeline import Pipeline\n",
    "\n",
    "log_reg = LogisticRegression(max_iter=1000)\n",
    "log_reg.fit(X_train.values, y_train)\n",
    "y_test_pred = log_reg.predict(X_test.values)"
   ]
  },
  {
   "cell_type": "markdown",
   "id": "cfb0196a-ce3b-4a80-aebf-afe81f4a1ed7",
   "metadata": {},
   "source": [
    "### Polynomial Features\n",
    "\n",
    "Note: training might not converge"
   ]
  },
  {
   "cell_type": "code",
   "execution_count": 30,
   "id": "48e65125-f99b-46d3-ab9e-4aa65636564d",
   "metadata": {},
   "outputs": [
    {
     "name": "stderr",
     "output_type": "stream",
     "text": [
      "/Users/phlobo/miniconda3/envs/dm4dh/lib/python3.11/site-packages/sklearn/linear_model/_logistic.py:460: ConvergenceWarning: lbfgs failed to converge (status=1):\n",
      "STOP: TOTAL NO. of ITERATIONS REACHED LIMIT.\n",
      "\n",
      "Increase the number of iterations (max_iter) or scale the data as shown in:\n",
      "    https://scikit-learn.org/stable/modules/preprocessing.html\n",
      "Please also refer to the documentation for alternative solver options:\n",
      "    https://scikit-learn.org/stable/modules/linear_model.html#logistic-regression\n",
      "  n_iter_i = _check_optimize_result(\n"
     ]
    }
   ],
   "source": [
    "# Fit logistic regression with polynomial features\n",
    "log_reg_poly = Pipeline([('poly', PolynomialFeatures()), ('classifier', LogisticRegression(max_iter=1000))])\n",
    "log_reg_poly.fit(X_train.values, y_train)\n",
    "# Get predictions on test set\n",
    "y_test_poly_pred = log_reg_poly.predict(X_test.values)"
   ]
  },
  {
   "cell_type": "markdown",
   "id": "ff8582f4-12bb-499f-a9e6-52a9338313c4",
   "metadata": {},
   "source": [
    "### Standardization (Scaling)"
   ]
  },
  {
   "cell_type": "code",
   "execution_count": 31,
   "id": "e087e974-1e54-475d-9337-4fb79b23375c",
   "metadata": {},
   "outputs": [],
   "source": [
    "# Fit logistic regression with standardized features\n",
    "log_reg_scaled = Pipeline([('scaler', StandardScaler()), ('classifier', LogisticRegression(max_iter=1000))])\n",
    "log_reg_scaled.fit(X_train.values, y_train)\n",
    "\n",
    "# Get predictions on test set\n",
    "y_test_scaled_pred = log_reg_scaled.predict(X_test.values)"
   ]
  },
  {
   "cell_type": "markdown",
   "id": "6df8c44b-2f81-4211-81e4-3c93aa58b867",
   "metadata": {},
   "source": [
    "### Standardization + Polynomial"
   ]
  },
  {
   "cell_type": "code",
   "execution_count": 32,
   "id": "9d5f0fc4-b488-4f56-8c6e-32d6331a2fe7",
   "metadata": {},
   "outputs": [],
   "source": [
    "# Fit logistic regression with standardized, polynomial features\n",
    "log_reg_poly_scaled = Pipeline([('poly', PolynomialFeatures()), ('scaler', StandardScaler()), ('classifier', LogisticRegression(max_iter=1000))])\n",
    "log_reg_poly_scaled.fit(X_train.values, y_train)\n",
    "\n",
    "# Get predictions on test set\n",
    "y_test_poly_scaled_pred = log_reg_poly_scaled.predict(X_test.values)"
   ]
  },
  {
   "cell_type": "markdown",
   "id": "69767822-4aba-44ac-9dc4-9d34ee69acd7",
   "metadata": {},
   "source": [
    "## 5. Evaluation"
   ]
  },
  {
   "cell_type": "code",
   "execution_count": 33,
   "id": "5d08b823-30a7-44bc-bfc9-f510f385b05d",
   "metadata": {},
   "outputs": [],
   "source": [
    "from sklearn.metrics import ConfusionMatrixDisplay, precision_score, recall_score, accuracy_score, roc_auc_score\n",
    "\n",
    "def do_eval(y_true, y_pred):\n",
    "    ConfusionMatrixDisplay.from_predictions(y_true, y_pred)\n",
    "    print('Accuracy: %.2f' % accuracy_score(y_true, y_pred))\n",
    "    print('Precision: %.2f' % precision_score(y_true, y_pred))\n",
    "    print('Recall: %.2f' % recall_score(y_true, y_pred))\n",
    "    print('AUC: %.2f' % roc_auc_score(y_true, y_pred))"
   ]
  },
  {
   "cell_type": "markdown",
   "id": "a544b5aa-57c3-47b2-8cfe-56ca981f6ae1",
   "metadata": {},
   "source": [
    "Vanilla Logistic Regression Model"
   ]
  },
  {
   "cell_type": "code",
   "execution_count": 34,
   "id": "295ccb66-7b6a-4560-9238-c579923f2599",
   "metadata": {},
   "outputs": [
    {
     "name": "stdout",
     "output_type": "stream",
     "text": [
      "Accuracy: 0.72\n",
      "Precision: 0.59\n",
      "Recall: 0.62\n",
      "AUC: 0.70\n"
     ]
    },
    {
     "data": {
      "image/png": "[encoded data removed]",
      "text/plain": [
       "<Figure size 640x480 with 2 Axes>"
      ]
     },
     "metadata": {},
     "output_type": "display_data"
    }
   ],
   "source": [
    "do_eval(y_test, y_test_pred)"
   ]
  },
  {
   "cell_type": "markdown",
   "id": "2c89eab1-0dee-4f5a-b348-86eb13c99fb9",
   "metadata": {},
   "source": [
    "Logistic Regression Model + Polynomial Features"
   ]
  },
  {
   "cell_type": "code",
   "execution_count": 35,
   "id": "677762be-9e9f-459b-97fc-d65eaf48f09b",
   "metadata": {},
   "outputs": [
    {
     "name": "stdout",
     "output_type": "stream",
     "text": [
      "Accuracy: 0.73\n",
      "Precision: 0.59\n",
      "Recall: 0.75\n",
      "AUC: 0.74\n"
     ]
    },
    {
     "data": {
      "image/png": "[encoded data removed]",
      "text/plain": [
       "<Figure size 640x480 with 2 Axes>"
      ]
     },
     "metadata": {},
     "output_type": "display_data"
    }
   ],
   "source": [
    "do_eval(y_test, y_test_poly_pred)"
   ]
  },
  {
   "cell_type": "markdown",
   "id": "3a94faef-9fa9-41a4-a08e-671da75929e6",
   "metadata": {},
   "source": [
    "Logistic Regression Model + Standardization"
   ]
  },
  {
   "cell_type": "code",
   "execution_count": 36,
   "id": "f355e024-5c78-4772-ac39-3b957d7fb445",
   "metadata": {},
   "outputs": [
    {
     "name": "stdout",
     "output_type": "stream",
     "text": [
      "Accuracy: 0.73\n",
      "Precision: 0.60\n",
      "Recall: 0.66\n",
      "AUC: 0.71\n"
     ]
    },
    {
     "data": {
      "image/png": "[encoded data removed]",
      "text/plain": [
       "<Figure size 640x480 with 2 Axes>"
      ]
     },
     "metadata": {},
     "output_type": "display_data"
    }
   ],
   "source": [
    "do_eval(y_test, y_test_scaled_pred)"
   ]
  },
  {
   "cell_type": "markdown",
   "id": "220a5986-501e-41ca-ab1d-3f64045301c3",
   "metadata": {},
   "source": [
    "Logistic Regression Model + Polynomial Features + Standardization"
   ]
  },
  {
   "cell_type": "code",
   "execution_count": 37,
   "id": "9e5df17e-b49e-4e82-a56e-2ff4a2e7c47f",
   "metadata": {},
   "outputs": [
    {
     "name": "stdout",
     "output_type": "stream",
     "text": [
      "Accuracy: 0.77\n",
      "Precision: 0.65\n",
      "Recall: 0.75\n",
      "AUC: 0.77\n"
     ]
    },
    {
     "data": {
      "image/png": "[encoded data removed]",
      "text/plain": [
       "<Figure size 640x480 with 2 Axes>"
      ]
     },
     "metadata": {},
     "output_type": "display_data"
    }
   ],
   "source": [
    "do_eval(y_test, y_test_poly_scaled_pred)"
   ]
  },
  {
   "cell_type": "markdown",
   "id": "972211bb-f624-45b0-9ab5-8798df5b2244",
   "metadata": {},
   "source": [
    "## 6. Deployment (Optional)\n",
    "\n",
    "**Note**: this will only work in an interactive Jupyter environment"
   ]
  },
  {
   "cell_type": "markdown",
   "id": "de023a5f-0bfe-4029-b50c-319f0725fa4a",
   "metadata": {},
   "source": [
    "### Serialize model"
   ]
  },
  {
   "cell_type": "code",
   "execution_count": 38,
   "id": "3c58c0c8-925d-4784-9e34-df008987b550",
   "metadata": {},
   "outputs": [],
   "source": [
    "import joblib"
   ]
  },
  {
   "cell_type": "code",
   "execution_count": 39,
   "id": "376692f4-0b07-4430-bb8c-d58f309541b5",
   "metadata": {},
   "outputs": [
    {
     "data": {
      "text/plain": [
       "['log_reg.joblib']"
      ]
     },
     "execution_count": 39,
     "metadata": {},
     "output_type": "execute_result"
    }
   ],
   "source": [
    "joblib.dump(log_reg_scaled, 'log_reg.joblib')"
   ]
  },
  {
   "cell_type": "markdown",
   "id": "6880efdc-e2f5-4795-9147-3de653dea073",
   "metadata": {},
   "source": [
    "### Simple app"
   ]
  },
  {
   "cell_type": "code",
   "execution_count": 40,
   "id": "819bd64f-5711-40dc-90c0-1c2fbf554b78",
   "metadata": {},
   "outputs": [],
   "source": [
    "from ipywidgets import interact, FloatSlider, Checkbox, IntSlider, Output, widgets"
   ]
  },
  {
   "cell_type": "code",
   "execution_count": 41,
   "id": "7a2c85b5-1782-40cc-adf8-cc0fc0b3d44c",
   "metadata": {},
   "outputs": [],
   "source": [
    "model = joblib.load('log_reg.joblib')"
   ]
  },
  {
   "cell_type": "code",
   "execution_count": 42,
   "id": "80cab93d-8afc-49eb-a36c-6a73afbb39c4",
   "metadata": {},
   "outputs": [],
   "source": [
    "systolic_bp_slider = FloatSlider(min=80, max=200, value=120)\n",
    "tobacco_slider = FloatSlider(min=0, max=50, value=0)\n",
    "ldl_slider = FloatSlider(min=0, max=20, value=0)\n",
    "adiposity_slider = FloatSlider(min=0, max=50, value=0)\n",
    "fam_hist_cb = Checkbox()\n",
    "type_a_slider = FloatSlider(min=0, max=100, value=50)\n",
    "obesity_slider = FloatSlider(min=0, max=100, value=25)\n",
    "alcohol_slider = FloatSlider(min=0, max=200, value=50)\n",
    "age_slider = IntSlider(min=0, max=100, value=30)\n",
    "\n",
    "output = Output()"
   ]
  },
  {
   "cell_type": "code",
   "execution_count": 43,
   "id": "031bbf40-f3be-4c73-9004-da274c696ab1",
   "metadata": {},
   "outputs": [],
   "source": [
    "def predict(systolic_bp, tobacco, ldl, adiposity, fam_hist, type_a, obesity, alcohol, age):\n",
    "    df = pd.DataFrame({\n",
    "        'Systolic Blood Pressure': [systolic_bp],\n",
    "        'Tobacco (kg)': [tobacco],\n",
    "        'LDL': [ldl],\n",
    "        'Adiposity': [adiposity],\n",
    "        'Fam. Hist': [fam_hist],\n",
    "        'Type A': [type_a],\n",
    "        'Obesity': [obesity],\n",
    "        'Alcohol': [alcohol],\n",
    "        'Age': [age]\n",
    "    })\n",
    "    prediction = model.predict_proba(df.values)[:, 1][0]\n",
    "    \n",
    "    with output:\n",
    "        output.clear_output()\n",
    "        print(f'Prediction: {prediction:.4f} (from 0.0 to 1.0)')"
   ]
  },
  {
   "cell_type": "code",
   "execution_count": 44,
   "id": "b970e513-e089-4a8d-a327-f6f0fde29079",
   "metadata": {},
   "outputs": [
    {
     "data": {
      "application/vnd.jupyter.widget-view+json": {
       "model_id": "7e8ac49e1eb94fe284c95edb2f88b11f",
       "version_major": 2,
       "version_minor": 0
      },
      "text/plain": [
       "interactive(children=(FloatSlider(value=120.0, description='systolic_bp', max=200.0, min=80.0), FloatSlider(va…"
      ]
     },
     "metadata": {},
     "output_type": "display_data"
    },
    {
     "data": {
      "application/vnd.jupyter.widget-view+json": {
       "model_id": "5cc6b1d3b81f487795b472cb090fceb1",
       "version_major": 2,
       "version_minor": 0
      },
      "text/plain": [
       "Output()"
      ]
     },
     "metadata": {},
     "output_type": "display_data"
    }
   ],
   "source": [
    "interact(\n",
    "    predict,\n",
    "    systolic_bp=systolic_bp_slider,\n",
    "    tobacco=tobacco_slider,\n",
    "    ldl=ldl_slider,\n",
    "    adiposity=adiposity_slider,\n",
    "    fam_hist=fam_hist_cb,\n",
    "    type_a=type_a_slider,\n",
    "    obesity=obesity_slider,\n",
    "    alcohol=alcohol_slider,\n",
    "    age=age_slider\n",
    ")\n",
    "\n",
    "display(output)"
   ]
  },
  {
   "cell_type": "code",
   "execution_count": null,
   "id": "628bd8d8-3d8e-41c8-b7ed-dd2c8ef20fa0",
   "metadata": {},
   "outputs": [],
   "source": []
  }
 ],
 "metadata": {
  "kernelspec": {
   "display_name": "Python [conda env:dm4dh]",
   "language": "python",
   "name": "conda-env-dm4dh-py"
  },
  "language_info": {
   "codemirror_mode": {
    "name": "ipython",
    "version": 3
   },
   "file_extension": ".py",
   "mimetype": "text/x-python",
   "name": "python",
   "nbconvert_exporter": "python",
   "pygments_lexer": "ipython3",
   "version": "3.11.5"
  }
 },
 "nbformat": 4,
 "nbformat_minor": 5
}
