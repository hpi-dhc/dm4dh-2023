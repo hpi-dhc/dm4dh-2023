{
 "cells": [
  {
   "cell_type": "markdown",
   "id": "a9e6a6d3-f6d8-444b-99e5-881a1a065a0f",
   "metadata": {},
   "source": [
    "# Process Model for Machine Learning in Digital Health\n",
    "\n",
    "<img src=\"assets/process_model.png\" width=\"40%\"/>"
   ]
  },
  {
   "cell_type": "markdown",
   "id": "b2920e6e-40db-4aa8-b6e5-8a76ec928700",
   "metadata": {},
   "source": [
    "## 1. Requirements Analysis"
   ]
  },
  {
   "cell_type": "code",
   "execution_count": null,
   "id": "0d564e25-a9f4-4040-b0cd-0cb22f2e1651",
   "metadata": {},
   "outputs": [],
   "source": []
  },
  {
   "cell_type": "markdown",
   "id": "546ded4d-6763-4044-bd5f-28b486cbfb75",
   "metadata": {},
   "source": [
    "## 2. Data Acquisition"
   ]
  },
  {
   "cell_type": "code",
   "execution_count": null,
   "id": "c9843005-4a9f-4530-8952-7748c96aea25",
   "metadata": {},
   "outputs": [],
   "source": []
  },
  {
   "cell_type": "markdown",
   "id": "9d6a1b3c-5172-4d5e-bd1d-cfb1fbd60957",
   "metadata": {},
   "source": [
    "## 3. Data Preparation"
   ]
  },
  {
   "cell_type": "code",
   "execution_count": null,
   "id": "e5969aff-3e96-4047-ae57-68cdb27363df",
   "metadata": {},
   "outputs": [],
   "source": []
  },
  {
   "cell_type": "markdown",
   "id": "62123efe-4c4b-444d-b556-389e609072f6",
   "metadata": {},
   "source": [
    "## 4. Predictive Modelling"
   ]
  },
  {
   "cell_type": "markdown",
   "id": "b57c4c90-831e-4d1a-b7b1-f566bc8b274e",
   "metadata": {},
   "source": []
  },
  {
   "cell_type": "markdown",
   "id": "69767822-4aba-44ac-9dc4-9d34ee69acd7",
   "metadata": {},
   "source": [
    "## 5. Evaluation"
   ]
  },
  {
   "cell_type": "code",
   "execution_count": null,
   "id": "5d08b823-30a7-44bc-bfc9-f510f385b05d",
   "metadata": {},
   "outputs": [],
   "source": []
  },
  {
   "cell_type": "markdown",
   "id": "972211bb-f624-45b0-9ab5-8798df5b2244",
   "metadata": {},
   "source": [
    "## 6. Deployment"
   ]
  },
  {
   "cell_type": "code",
   "execution_count": null,
   "id": "819bd64f-5711-40dc-90c0-1c2fbf554b78",
   "metadata": {},
   "outputs": [],
   "source": []
  }
 ],
 "metadata": {
  "kernelspec": {
   "display_name": "Python 3 (ipykernel)",
   "language": "python",
   "name": "python3"
  },
  "language_info": {
   "codemirror_mode": {
    "name": "ipython",
    "version": 3
   },
   "file_extension": ".py",
   "mimetype": "text/x-python",
   "name": "python",
   "nbconvert_exporter": "python",
   "pygments_lexer": "ipython3",
   "version": "3.9.12"
  }
 },
 "nbformat": 4,
 "nbformat_minor": 5
}
